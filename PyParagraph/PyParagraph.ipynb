{
 "cells": [
  {
   "cell_type": "code",
   "execution_count": 8,
   "metadata": {},
   "outputs": [
    {
     "name": "stdout",
     "output_type": "stream",
     "text": [
      "“Adam Wayne, the conqueror, with his face flung back and his mane like a lion's, stood with his great sword point upwards, the red raiment of his office flapping around him like the red wings of an archangel. And the King saw, he knew not how, something new and overwhelming. The great green trees and the great red robes swung together in the wind. The preposterous masquerade, born of his own mockery, towered over him and embraced the world. This was the normal, this was sanity, this was nature, and he himself, with his rationality, and his detachment and his black frock-coat, he was the exception and the accident a blot of black upon a world of crimson and gold.”\n"
     ]
    }
   ],
   "source": [
    "file=(\"PyParagraph.txt\")\n",
    "with open (file, 'r') as text:\n",
    "    lines = text.read()\n",
    "    print(lines)"
   ]
  },
  {
   "cell_type": "code",
   "execution_count": 11,
   "metadata": {},
   "outputs": [
    {
     "name": "stdout",
     "output_type": "stream",
     "text": [
      "121\n",
      "5\n"
     ]
    },
    {
     "data": {
      "text/plain": [
       "552"
      ]
     },
     "execution_count": 11,
     "metadata": {},
     "output_type": "execute_result"
    }
   ],
   "source": [
    "#add \"1\", because of first word\n",
    "word=lines.count(\" \")+ lines.count(\"-\") + 1\n",
    "print(word)\n",
    "\n",
    "senten=lines.count(\". \") + lines.count(\"! \") + lines.count(\"? \") + lines.count(\".”\")\n",
    "print(senten)\n",
    "char=len(lines)-lines.count(\" \")\n",
    "char"
   ]
  },
  {
   "cell_type": "code",
   "execution_count": 10,
   "metadata": {},
   "outputs": [
    {
     "name": "stdout",
     "output_type": "stream",
     "text": [
      "Paragraph Analysis\n",
      "-----------------\n",
      "Approximate Word Count: 121\n",
      "Approximate Sentence Count: 5\n",
      "Average Letter Count: 4.56198347107438\n",
      "Average Sentence Length: 24.2\n",
      "\n"
     ]
    }
   ],
   "source": [
    "print(\"\"\"Paragraph Analysis\n",
    "-----------------\n",
    "Approximate Word Count: {}\n",
    "Approximate Sentence Count: {}\n",
    "Average Letter Count: {}\n",
    "Average Sentence Length: {}\n",
    "\"\"\".format(word, senten, char/word, word/senten ))"
   ]
  },
  {
   "cell_type": "code",
   "execution_count": null,
   "metadata": {},
   "outputs": [],
   "source": []
  }
 ],
 "metadata": {
  "kernelspec": {
   "display_name": "Python 3",
   "language": "python",
   "name": "python3"
  },
  "language_info": {
   "codemirror_mode": {
    "name": "ipython",
    "version": 3
   },
   "file_extension": ".py",
   "mimetype": "text/x-python",
   "name": "python",
   "nbconvert_exporter": "python",
   "pygments_lexer": "ipython3",
   "version": "3.7.3"
  }
 },
 "nbformat": 4,
 "nbformat_minor": 4
}
