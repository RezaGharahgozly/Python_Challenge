{
 "cells": [
  {
   "cell_type": "code",
   "execution_count": 2,
   "metadata": {},
   "outputs": [],
   "source": [
    "import os\n",
    "import csv\n",
    "count = 0\n",
    "max = 0\n",
    "sum=0\n",
    "can = []\n",
    "count_l=[]\n",
    "percent=[]\n",
    "csvpath = os.path.join('election_data.csv')\n",
    "with open(csvpath, newline='') as csvfile:\n",
    "    csvreader = csv.reader(csvfile, delimiter=',')\n",
    "    for row in csvreader:\n",
    "        can.append(row[2])\n",
    "del can[0]\n",
    "for row in can:\n",
    "    count += 1\n",
    "#print(count)\n",
    "uniq_l = list(dict.fromkeys(can)) \n",
    "for candid in uniq_l:\n",
    "    count_l.append(can.count(candid))\n",
    "#list comprehension\n",
    "percent=[(100/count)*x for x in count_l]\n",
    "#print(percent)\n",
    "#print(count_l)            \n",
    "#print(uniq_l)\n",
    "for i in count_l:\n",
    "    sum += i\n",
    "    if i > max:\n",
    "        max = i\n",
    "#print(winner)\n",
    "#print(uniq_l[count_l.index(max)])\n",
    "\n",
    "#print(sum)"
   ]
  },
  {
   "cell_type": "code",
   "execution_count": 3,
   "metadata": {},
   "outputs": [
    {
     "name": "stdout",
     "output_type": "stream",
     "text": [
      "Election Results\n",
      "-------------------------\n",
      "Total Votes: 3521001\n",
      "-------------------------\n",
      "Khan: 63.0% (2218231)\n",
      "Correy: 20.0% (704200)\n",
      "Li: 14.0% (492940)\n",
      "O'Tooley: 3.0% (105630)\n",
      "-------------------------\n",
      "Winner: Khan\n",
      "-------------------------\n",
      "\n"
     ]
    }
   ],
   "source": [
    "print(\"\"\"Election Results\n",
    "-------------------------\n",
    "Total Votes: {}\n",
    "-------------------------\n",
    "{}: {}% ({})\n",
    "{}: {}% ({})\n",
    "{}: {}% ({})\n",
    "{}: {}% ({})\n",
    "-------------------------\n",
    "Winner: {}\n",
    "-------------------------\n",
    "\"\"\".format((sum), uniq_l[0], round(percent[0], 4), count_l[0],\n",
    "           uniq_l[1], round(percent[1], 4), count_l[1],\n",
    "           uniq_l[2], round(percent[2], 4), count_l[2],\n",
    "           uniq_l[3], round(percent[3], 4), count_l[3],\n",
    "           uniq_l[count_l.index(max)]))"
   ]
  },
  {
   "cell_type": "code",
   "execution_count": null,
   "metadata": {},
   "outputs": [],
   "source": []
  },
  {
   "cell_type": "code",
   "execution_count": null,
   "metadata": {},
   "outputs": [],
   "source": []
  }
 ],
 "metadata": {
  "kernelspec": {
   "display_name": "Python 3",
   "language": "python",
   "name": "python3"
  },
  "language_info": {
   "codemirror_mode": {
    "name": "ipython",
    "version": 3
   },
   "file_extension": ".py",
   "mimetype": "text/x-python",
   "name": "python",
   "nbconvert_exporter": "python",
   "pygments_lexer": "ipython3",
   "version": "3.7.3"
  }
 },
 "nbformat": 4,
 "nbformat_minor": 4
}
