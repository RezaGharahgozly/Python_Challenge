{
 "cells": [
  {
   "cell_type": "code",
   "execution_count": 4,
   "metadata": {},
   "outputs": [
    {
     "name": "stdout",
     "output_type": "stream",
     "text": [
      "86\n",
      "38382578\n",
      "-2315.1176470588234\n",
      "1926159\n",
      "-2196167\n",
      "Feb-2012\n",
      "Sep-2013\n"
     ]
    }
   ],
   "source": [
    "import os\n",
    "import csv\n",
    "csvpath = os.path.join('budget_data.csv')\n",
    "type(csvpath)\n",
    "ProfitLosses = []\n",
    "Date=[]\n",
    "diff=[]\n",
    "count = 0\n",
    "Sum = 0\n",
    "Sum_dif=0\n",
    "Max = 0\n",
    "Min = 0\n",
    "with open(csvpath, newline='') as csvfile:\n",
    "\n",
    "    csvreader = csv.reader(csvfile, delimiter=',')\n",
    "    csv_header = next(csvreader)\n",
    "\n",
    "    for row in csvreader:\n",
    "        ProfitLosses.append(int(row[1]))\n",
    "        Date.append(row[0])\n",
    "for row in ProfitLosses:\n",
    "    count += 1\n",
    "    Sum += int(row)\n",
    "\n",
    "diff = [j-i for i, j in zip(ProfitLosses[:-1], ProfitLosses[1:])]\n",
    "diff.insert(0, ProfitLosses[0])\n",
    "for row in diff:\n",
    "    Sum_dif += int(row)\n",
    "    if int(row) > Max:\n",
    "        Max = int(row)\n",
    "    elif int(row) < Min:\n",
    "        Min = int(row)\n",
    "        \n",
    "#print(count)\n",
    "#print(Sum)\n",
    "#print((Sum_dif-diff[0])/(count-1))\n",
    "#print(Max)\n",
    "#print(Min)\n",
    "#print(Date[diff.index(Max)])\n",
    "#print(Date[diff.index(Min)])"
   ]
  },
  {
   "cell_type": "code",
   "execution_count": 165,
   "metadata": {},
   "outputs": [
    {
     "name": "stdout",
     "output_type": "stream",
     "text": [
      "Financial Analysis\n",
      "---------------------------------------\n",
      "Total Months: 86\n",
      "Total: $38382578\n",
      "Average  Change: $-2315.1176470588234\n",
      "Greatest Increase in Profits: Feb-2012 ($1926159)\n",
      "Greatest Decrease in Profits: Sep-2013 ($-2196167)\n",
      "\n"
     ]
    }
   ],
   "source": [
    "print(\"\"\"Financial Analysis\n",
    "---------------------------------------\n",
    "Total Months: {}\n",
    "Total: ${}\n",
    "Average  Change: ${}\n",
    "Greatest Increase in Profits: {} (${})\n",
    "Greatest Decrease in Profits: {} (${})\n",
    "\"\"\".format(count, Sum,(Sum_dif-diff[0])/(count-1),Date[diff.index(Max)], Max, Date[diff.index(Min)], Min ))"
   ]
  },
  {
   "cell_type": "code",
   "execution_count": null,
   "metadata": {},
   "outputs": [],
   "source": []
  }
 ],
 "metadata": {
  "kernelspec": {
   "display_name": "Python 3",
   "language": "python",
   "name": "python3"
  },
  "language_info": {
   "codemirror_mode": {
    "name": "ipython",
    "version": 3
   },
   "file_extension": ".py",
   "mimetype": "text/x-python",
   "name": "python",
   "nbconvert_exporter": "python",
   "pygments_lexer": "ipython3",
   "version": "3.7.3"
  }
 },
 "nbformat": 4,
 "nbformat_minor": 4
}
